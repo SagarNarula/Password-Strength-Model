{
 "cells": [
  {
   "cell_type": "code",
   "execution_count": null,
   "metadata": {},
   "outputs": [],
   "source": [
    "from flask import Flask,render_template,url_for,request\n",
    "import pandas as pd \n",
    "import pickle\n",
    "from sklearn.feature_extraction.text import TfidfVectorizer\n",
    "import numpy as np"
   ]
  },
  {
   "cell_type": "code",
   "execution_count": null,
   "metadata": {},
   "outputs": [],
   "source": [
    "app = Flask(__name__)\n",
    "model = pickle.load(open('classification_model.pkl','rb'))"
   ]
  },
  {
   "cell_type": "code",
   "execution_count": null,
   "metadata": {},
   "outputs": [],
   "source": [
    "@app.route('/')\n",
    "def home():\n",
    "    return render_template('home.html')"
   ]
  },
  {
   "cell_type": "code",
   "execution_count": null,
   "metadata": {},
   "outputs": [],
   "source": [
    "@app.route('/predict',methods=['POST'])\n",
    "def predict():\n",
    "    data=pd.read_csv('data.csv',',',error_bad_lines=False)\n",
    "    data.dropna(inplace=True)\n",
    "    X=data['password']\n",
    "    def word_divide_char(inputs):\n",
    "        characters=[]\n",
    "        for i in inputs:\n",
    "            characters.append(i)\n",
    "        return characters\n",
    "    \n",
    "    vectorizer=TfidfVectorizer(tokenizer=word_divide_char)\n",
    "    X=vectorizer.fit_transform(X)\n",
    "    \n",
    "    if request.method == 'POST':\n",
    "        \n",
    "        message = request.form['message']\n",
    "        message = np.array([message])\n",
    "        message = vectorizer.transform(message)\n",
    "        my_prediction = model.predict(message)\n",
    "    return render_template('result.html',prediction = my_prediction)"
   ]
  },
  {
   "cell_type": "code",
   "execution_count": null,
   "metadata": {},
   "outputs": [],
   "source": [
    "if __name__ == '__main__':\n",
    "    app.run(debug=True)"
   ]
  }
 ],
 "metadata": {
  "kernelspec": {
   "display_name": "Python 3",
   "language": "python",
   "name": "python3"
  },
  "language_info": {
   "codemirror_mode": {
    "name": "ipython",
    "version": 3
   },
   "file_extension": ".py",
   "mimetype": "text/x-python",
   "name": "python",
   "nbconvert_exporter": "python",
   "pygments_lexer": "ipython3",
   "version": "3.7.3"
  }
 },
 "nbformat": 4,
 "nbformat_minor": 2
}
